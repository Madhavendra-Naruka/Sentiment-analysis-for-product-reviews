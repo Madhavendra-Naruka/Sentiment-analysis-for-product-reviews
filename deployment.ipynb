{
 "cells": [
  {
   "cell_type": "code",
   "execution_count": 1,
   "metadata": {},
   "outputs": [
    {
     "data": {
      "text/html": [
       "<div>\n",
       "<style scoped>\n",
       "    .dataframe tbody tr th:only-of-type {\n",
       "        vertical-align: middle;\n",
       "    }\n",
       "\n",
       "    .dataframe tbody tr th {\n",
       "        vertical-align: top;\n",
       "    }\n",
       "\n",
       "    .dataframe thead th {\n",
       "        text-align: right;\n",
       "    }\n",
       "</style>\n",
       "<table border=\"1\" class=\"dataframe\">\n",
       "  <thead>\n",
       "    <tr style=\"text-align: right;\">\n",
       "      <th></th>\n",
       "      <th>subjectivity</th>\n",
       "      <th>score</th>\n",
       "    </tr>\n",
       "  </thead>\n",
       "  <tbody>\n",
       "    <tr>\n",
       "      <th>0</th>\n",
       "      <td>0.975</td>\n",
       "      <td>1.0</td>\n",
       "    </tr>\n",
       "  </tbody>\n",
       "</table>\n",
       "</div>"
      ],
      "text/plain": [
       "   subjectivity  score\n",
       "0         0.975    1.0"
      ]
     },
     "metadata": {},
     "output_type": "display_data"
    },
    {
     "name": "stdout",
     "output_type": "stream",
     "text": [
      "Review :  Very Very Great Product\n",
      "\n",
      "Predicted Sentiment: strongly positive\n"
     ]
    }
   ],
   "source": [
    "import joblib\n",
    "from textblob import TextBlob\n",
    "\n",
    "import pandas as pd\n",
    "# Load the saved pipeline\n",
    "f_name='Linear_Regression_Custom_Features.pkl'\n",
    "# Load the pipeline\n",
    "loaded_pipeline = joblib.load(f_name)\n",
    "\n",
    "# Function to predict sentiment of a new string\n",
    "def predict_sentiment(input_string):\n",
    "    # Assuming the input string is preprocessed into a dataframe with necessary features\n",
    "    # Here, it's directly transformed for demonstration, adjust preprocessing as needed\n",
    "    data = pd.DataFrame({\n",
    "        'subjectivity': [TextBlob(input_string).sentiment.subjectivity],  # Example subjectivity\n",
    "        'score': [TextBlob(input_string).sentiment.polarity]     # Example score\n",
    "    }) \n",
    "    display(data)\n",
    "    prediction = loaded_pipeline.predict(data)\n",
    "    return prediction[0]\n",
    "\n",
    "# Example usage\n",
    "input_string = input(\"Enter a Review : \")\n",
    "\n",
    "predicted_sentiment = predict_sentiment(input_string)\n",
    "print(\"Review : \",input_string)\n",
    "print(\"\\nPredicted Sentiment:\", predicted_sentiment)"
   ]
  }
 ],
 "metadata": {
  "kernelspec": {
   "display_name": "Python 3",
   "language": "python",
   "name": "python3"
  },
  "language_info": {
   "codemirror_mode": {
    "name": "ipython",
    "version": 3
   },
   "file_extension": ".py",
   "mimetype": "text/x-python",
   "name": "python",
   "nbconvert_exporter": "python",
   "pygments_lexer": "ipython3",
   "version": "3.11.5"
  }
 },
 "nbformat": 4,
 "nbformat_minor": 2
}
